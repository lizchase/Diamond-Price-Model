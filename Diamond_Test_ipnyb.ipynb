{
  "nbformat": 4,
  "nbformat_minor": 0,
  "metadata": {
    "colab": {
      "provenance": []
    },
    "kernelspec": {
      "name": "python3",
      "display_name": "Python 3"
    },
    "language_info": {
      "name": "python"
    }
  },
  "cells": [
    {
      "cell_type": "code",
      "execution_count": null,
      "metadata": {
        "id": "wjJ_rb1wl6jk"
      },
      "outputs": [],
      "source": [
        "import numpy as np\n",
        "import pickle\n",
        "\n",
        "#Import libraries"
      ]
    },
    {
      "cell_type": "code",
      "source": [
        "model = pickle.load(open('/content/drive/MyDrive/Colab Notebooks/Predictive Analytics Course/Projects/Diamond Price Prediction/diamondmodel.pkl','rb'))\n",
        "\n",
        "#Load model"
      ],
      "metadata": {
        "id": "Uewk84i9mDgT"
      },
      "execution_count": null,
      "outputs": []
    },
    {
      "cell_type": "code",
      "source": [
        "test_x = np.zeros((1, 6))\n",
        "test_x\n",
        "\n",
        "#Create an array with 6 zeros because there are 6 variable in our model"
      ],
      "metadata": {
        "colab": {
          "base_uri": "https://localhost:8080/"
        },
        "id": "CXmML-SVmDdb",
        "outputId": "4e42a908-360c-4b9e-d9fa-288a12a31a7d"
      },
      "execution_count": null,
      "outputs": [
        {
          "output_type": "execute_result",
          "data": {
            "text/plain": [
              "array([[0., 0., 0., 0., 0., 0.]])"
            ]
          },
          "metadata": {},
          "execution_count": 16
        }
      ]
    },
    {
      "cell_type": "code",
      "source": [
        "test_x[0, 0] = 1.26     # carat   -- float\n",
        "test_x[0, 1] = 56.9          # depth   -- float\n",
        "test_x[0, 2] = 65.0        # table   -- float\n",
        "test_x[0, 3] = 3.7         # x       -- Float\n",
        "test_x[0, 4] = 4.83            # y       -- Float\n",
        "test_x[0, 5] = 3.5            # z       -- Float\n",
        "\n",
        "#Input values to test model."
      ],
      "metadata": {
        "id": "n09Ng343mDa-"
      },
      "execution_count": null,
      "outputs": []
    },
    {
      "cell_type": "code",
      "source": [
        "prediction = model.predict(test_x)\n",
        "print(f'The model {model} predicts a price for a diamond of ${int(prediction[0])}')\n",
        "\n",
        "#Price was an integer in the initial data set."
      ],
      "metadata": {
        "colab": {
          "base_uri": "https://localhost:8080/"
        },
        "id": "2H-iowqmmDYW",
        "outputId": "2a646f91-7ed0-450c-d4b4-1bd33f7d3ff6"
      },
      "execution_count": null,
      "outputs": [
        {
          "output_type": "stream",
          "name": "stdout",
          "text": [
            "The model RandomForestRegressor() predicts a price for a diamond of $6863\n"
          ]
        }
      ]
    }
  ]
}